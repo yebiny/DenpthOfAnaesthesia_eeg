{
 "cells": [
  {
   "cell_type": "code",
   "execution_count": 18,
   "metadata": {},
   "outputs": [],
   "source": [
    "import tensorflow as tf\n",
    "import matplotlib.pyplot as plt\n",
    "from sklearn import metrics\n",
    "import seaborn as sns\n",
    "from train_cfy import *\n",
    "def wave_tree(x, l):\n",
    "    l_pred = model1.predict_classes(x)\n",
    "    l_pred = np.reshape(l_pred, (len(l_pred)))\n",
    "    x0, l0 = x[l_pred==0], l[l_pred==0]\n",
    "    x1, l1 = x[l_pred==1], l[l_pred==1]\n",
    "    \n",
    "    l0_pred = model2.predict_classes(x0)\n",
    "    l0_pred = np.reshape(l0_pred, (len(l0_pred)))\n",
    "    \n",
    "    l1_pred = model3.predict_classes(x1)\n",
    "    l1_pred = np.reshape(l1_pred, (len(l1_pred)))\n",
    "    \n",
    "    l1_pred[l1_pred==0]=2\n",
    "    l1_pred[l1_pred==1]=3\n",
    "    \n",
    "    l_true = np.concatenate((l0, l1))\n",
    "    l_pred = np.concatenate((l0_pred, l1_pred))\n",
    "    return l_true, l_pred\n",
    "def draw_cm(y_true, y_pred):\n",
    "    \n",
    "    plt.figure(figsize=(6,4))\n",
    "    ax = plt.subplot(1,1,1)\n",
    "    cm = metrics.confusion_matrix(y_true, y_pred)\n",
    "    cm = cm.astype('float')/cm.sum(axis=1)[:, np.newaxis]\n",
    "\n",
    "    sns.heatmap(cm, annot=True, ax = ax)\n",
    "    buttom, top = ax.get_ylim()\n",
    "    ax.set_xlabel(\"Pred\")\n",
    "    ax.set_ylabel(\"True\")\n",
    "    ax.set_ylim(buttom+0.5, top-0.5)\n",
    "    plt.show()\n",
    "    "
   ]
  },
  {
   "cell_type": "code",
   "execution_count": 73,
   "metadata": {},
   "outputs": [],
   "source": [
    "#data_path = './data/eeg_window_10/class4_nocut/'\n",
    "data_path = './data/eeg_window_10/class2_nocut/'"
   ]
  },
  {
   "cell_type": "code",
   "execution_count": 74,
   "metadata": {},
   "outputs": [
    {
     "name": "stdout",
     "output_type": "stream",
     "text": [
      "(8106, 1250, 3) (2027, 1250, 3)\n",
      "4644\n",
      "3462\n",
      "0\n",
      "0\n",
      "1198\n",
      "829\n",
      "0\n",
      "0\n"
     ]
    }
   ],
   "source": [
    "_, l_train, x_valid, l_valid = load_data(data_path)\n",
    "x_valid.shape, l_valid.shape\n",
    "\n",
    "for i in range(4):\n",
    "    print(len(l_train[l_train==i]))\n",
    "for i in range(4):\n",
    "    print(len(l_valid[l_valid==i]))"
   ]
  },
  {
   "cell_type": "code",
   "execution_count": 80,
   "metadata": {},
   "outputs": [],
   "source": [
    "#L1 = 'results/210419_1520_cfy1_class2/'\n",
    "L1 = 'results/04211947_class2_nocut'\n",
    "L1 = 'results/04211947_class2'\n",
    "\n",
    "#L2low = 'results/210420_1404_cfy1_class2'\n",
    "L2low = 'results/04212200_under_basic'\n",
    "\n",
    "#L2high = 'results/210421_1009_class2'\n",
    "L2high = 'results/04230848_upper_basic'\n",
    "\n",
    "C4 = 'results/04212034_class4_b03/'"
   ]
  },
  {
   "cell_type": "code",
   "execution_count": 77,
   "metadata": {},
   "outputs": [],
   "source": [
    "model1 = tf.keras.models.load_model('%s/model.h5'%L1)\n",
    "model2 = tf.keras.models.load_model('%s/model.h5'%L2low)\n",
    "model3 = tf.keras.models.load_model('%s/model.h5'%L2high)\n",
    "model4 = tf.keras.models.load_model('%s/model.h5'%C4)"
   ]
  },
  {
   "cell_type": "code",
   "execution_count": 72,
   "metadata": {},
   "outputs": [
    {
     "data": {
      "image/png": "[encoded data removed]",
      "text/plain": [
       "<Figure size 432x288 with 2 Axes>"
      ]
     },
     "metadata": {
      "needs_background": "light"
     },
     "output_type": "display_data"
    },
    {
     "data": {
      "text/plain": [
       "((2027,), (2027,))"
      ]
     },
     "execution_count": 72,
     "metadata": {},
     "output_type": "execute_result"
    }
   ],
   "source": [
    "l_true, l_pred = wave_tree(x_valid, l_valid)\n",
    "draw_cm(l_true, l_pred)\n",
    "l_true.shape, l_pred.shape"
   ]
  },
  {
   "cell_type": "code",
   "execution_count": 81,
   "metadata": {},
   "outputs": [],
   "source": [
    "l_pred = model1.predict_classes(x_valid)"
   ]
  },
  {
   "cell_type": "code",
   "execution_count": 82,
   "metadata": {},
   "outputs": [
    {
     "data": {
      "image/png": "[encoded data removed]",
      "text/plain": [
       "<Figure size 432x288 with 2 Axes>"
      ]
     },
     "metadata": {
      "needs_background": "light"
     },
     "output_type": "display_data"
    }
   ],
   "source": [
    "draw_cm(l_valid, l_pred)"
   ]
  },
  {
   "cell_type": "code",
   "execution_count": null,
   "metadata": {},
   "outputs": [],
   "source": []
  }
 ],
 "metadata": {
  "kernelspec": {
   "display_name": "Python 3",
   "language": "python",
   "name": "python3"
  },
  "language_info": {
   "codemirror_mode": {
    "name": "ipython",
    "version": 3
   },
   "file_extension": ".py",
   "mimetype": "text/x-python",
   "name": "python",
   "nbconvert_exporter": "python",
   "pygments_lexer": "ipython3",
   "version": "3.7.4"
  },
  "toc": {
   "base_numbering": 1,
   "nav_menu": {},
   "number_sections": true,
   "sideBar": true,
   "skip_h1_title": false,
   "title_cell": "Table of Contents",
   "title_sidebar": "Contents",
   "toc_cell": false,
   "toc_position": {},
   "toc_section_display": true,
   "toc_window_display": false
  }
 },
 "nbformat": 4,
 "nbformat_minor": 4
}
