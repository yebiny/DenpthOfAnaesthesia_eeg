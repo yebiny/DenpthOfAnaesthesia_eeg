{
 "cells": [
  {
   "cell_type": "code",
   "execution_count": 107,
   "metadata": {},
   "outputs": [],
   "source": [
    "import numpy as np\n",
    "import matplotlib.pyplot as plt\n",
    "import math\n",
    "import os, sys, glob\n",
    "import numpy as np\n",
    "from tensorflow.keras import layers, models\n",
    "from sklearn.model_selection import train_test_split"
   ]
  },
  {
   "cell_type": "code",
   "execution_count": 187,
   "metadata": {},
   "outputs": [],
   "source": [
    "x_data = np.load(\"data/res_process/test1/data30/x_train.npy\")\n",
    "y_data = np.load(\"data/res_process/test1/data30/y_train.npy\")\n",
    "y_label = np.load(\"data/res_process/test1/data30/y_train_label.npy\")"
   ]
  },
  {
   "cell_type": "code",
   "execution_count": 188,
   "metadata": {},
   "outputs": [
    {
     "data": {
      "text/plain": [
       "((33371, 625, 3), (33371,), (33371,))"
      ]
     },
     "execution_count": 188,
     "metadata": {},
     "output_type": "execute_result"
    }
   ],
   "source": [
    "x_data.shape, y_data.shape, y_label.shape"
   ]
  },
  {
   "cell_type": "code",
   "execution_count": 189,
   "metadata": {
    "scrolled": true
   },
   "outputs": [
    {
     "data": {
      "image/png": "[encoded data removed]",
      "text/plain": [
       "<Figure size 432x288 with 2 Axes>"
      ]
     },
     "metadata": {
      "needs_background": "light"
     },
     "output_type": "display_data"
    }
   ],
   "source": [
    "plt.subplot(1,2,1)\n",
    "plt.hist(y_data, bins=20)\n",
    "plt.subplot(1,2,2)\n",
    "plt.hist(y_label, bins=20)\n",
    "plt.show()"
   ]
  },
  {
   "cell_type": "code",
   "execution_count": 195,
   "metadata": {},
   "outputs": [],
   "source": [
    "from sklearn.model_selection import train_test_split\n",
    "\n",
    "x_train, x_valid, y_train, y_valid = train_test_split(x_data, y_data, test_size=0.2, shuffle=True, random_state=34)\n",
    "_, _, y_train_label, y_valid_label = train_test_split(x_data, y_label, test_size=0.2, shuffle=True, random_state=34)\n"
   ]
  },
  {
   "cell_type": "code",
   "execution_count": 223,
   "metadata": {},
   "outputs": [],
   "source": [
    "def build_wavenet(x):\n",
    "\n",
    "    xshape= x.shape\n",
    "\n",
    "    model = models.Sequential()\n",
    "    model.add(layers.InputLayer(input_shape=[xshape[1], xshape[2]]))\n",
    "\n",
    "    for rate in (1,2,4,8):\n",
    "        model.add(layers.Conv1D(filters=20, kernel_size=2,\n",
    "                                padding='causal', activation='relu', dilation_rate=rate))\n",
    "\n",
    "    model.add(layers.AveragePooling1D(50, padding='same'))\n",
    "    model.add(layers.Conv1D(20, 100, padding='same', activation='relu'))\n",
    "\n",
    "    model.add(layers.Conv1D(10, 100, padding='same', activation='relu'))\n",
    "    model.add(layers.AveragePooling1D(100, padding='same'))\n",
    "\n",
    "\n",
    "    # Last layer - for label\n",
    "    #model.add(layers.Conv1D(3, 10, padding='same'))\n",
    "    #model.add(layers.AveragePooling1D(10, padding='same'))\n",
    "    model.add(layers.Reshape((10, )))\n",
    "    model.add(layers.Dense(10))\n",
    "    model.add(layers.Activation('relu'))\n",
    "    model.add(layers.Dense(1))\n",
    "    #model.add(layers.Activation('softmax'))\n",
    "\n",
    "    return model"
   ]
  },
  {
   "cell_type": "code",
   "execution_count": 224,
   "metadata": {},
   "outputs": [
    {
     "name": "stdout",
     "output_type": "stream",
     "text": [
      "Model: \"sequential_9\"\n",
      "_________________________________________________________________\n",
      "Layer (type)                 Output Shape              Param #   \n",
      "=================================================================\n",
      "conv1d_61 (Conv1D)           (None, 625, 20)           140       \n",
      "_________________________________________________________________\n",
      "conv1d_62 (Conv1D)           (None, 625, 20)           820       \n",
      "_________________________________________________________________\n",
      "conv1d_63 (Conv1D)           (None, 625, 20)           820       \n",
      "_________________________________________________________________\n",
      "conv1d_64 (Conv1D)           (None, 625, 20)           820       \n",
      "_________________________________________________________________\n",
      "average_pooling1d_25 (Averag (None, 13, 20)            0         \n",
      "_________________________________________________________________\n",
      "conv1d_65 (Conv1D)           (None, 13, 20)            40020     \n",
      "_________________________________________________________________\n",
      "conv1d_66 (Conv1D)           (None, 13, 10)            20010     \n",
      "_________________________________________________________________\n",
      "average_pooling1d_26 (Averag (None, 1, 10)             0         \n",
      "_________________________________________________________________\n",
      "reshape_9 (Reshape)          (None, 10)                0         \n",
      "_________________________________________________________________\n",
      "dense_7 (Dense)              (None, 10)                110       \n",
      "_________________________________________________________________\n",
      "activation_1 (Activation)    (None, 10)                0         \n",
      "_________________________________________________________________\n",
      "dense_8 (Dense)              (None, 1)                 11        \n",
      "=================================================================\n",
      "Total params: 62,751\n",
      "Trainable params: 62,751\n",
      "Non-trainable params: 0\n",
      "_________________________________________________________________\n"
     ]
    }
   ],
   "source": [
    "model= build_wavenet(x_train)\n",
    "model.summary()"
   ]
  },
  {
   "cell_type": "code",
   "execution_count": 225,
   "metadata": {},
   "outputs": [],
   "source": [
    "import tensorflow as tf\n",
    "optimizer = tf.keras.optimizers.RMSprop(0.001)\n",
    "loss='mse'\n",
    "model.compile(optimizer, loss, metrics=['mae', 'mse'])"
   ]
  },
  {
   "cell_type": "code",
   "execution_count": 226,
   "metadata": {},
   "outputs": [
    {
     "name": "stdout",
     "output_type": "stream",
     "text": [
      "Train on 26696 samples, validate on 6675 samples\n",
      "Epoch 1/10\n",
      "26696/26696 [==============================] - 29s 1ms/sample - loss: 0.0205 - mae: 0.1011 - mse: 0.0205 - val_loss: 0.0098 - val_mae: 0.0708 - val_mse: 0.0098\n",
      "Epoch 2/10\n",
      "26696/26696 [==============================] - 29s 1ms/sample - loss: 0.0101 - mae: 0.0740 - mse: 0.0101 - val_loss: 0.0102 - val_mae: 0.0754 - val_mse: 0.0102\n",
      "Epoch 3/10\n",
      "26696/26696 [==============================] - 30s 1ms/sample - loss: 0.0087 - mae: 0.0679 - mse: 0.0087 - val_loss: 0.0082 - val_mae: 0.0653 - val_mse: 0.0082\n",
      "Epoch 4/10\n",
      "26696/26696 [==============================] - 38s 1ms/sample - loss: 0.0079 - mae: 0.0645 - mse: 0.0079 - val_loss: 0.0074 - val_mae: 0.0614 - val_mse: 0.0074\n",
      "Epoch 5/10\n",
      "26696/26696 [==============================] - 36s 1ms/sample - loss: 0.0072 - mae: 0.0607 - mse: 0.0072 - val_loss: 0.0074 - val_mae: 0.0617 - val_mse: 0.0074\n",
      "Epoch 6/10\n",
      "26696/26696 [==============================] - 33s 1ms/sample - loss: 0.0068 - mae: 0.0586 - mse: 0.0068 - val_loss: 0.0068 - val_mae: 0.0573 - val_mse: 0.0068\n",
      "Epoch 7/10\n",
      "26696/26696 [==============================] - 30s 1ms/sample - loss: 0.0065 - mae: 0.0570 - mse: 0.0065 - val_loss: 0.0073 - val_mae: 0.0608 - val_mse: 0.0073\n",
      "Epoch 8/10\n",
      "26696/26696 [==============================] - 30s 1ms/sample - loss: 0.0064 - mae: 0.0562 - mse: 0.0064 - val_loss: 0.0064 - val_mae: 0.0565 - val_mse: 0.0064\n",
      "Epoch 9/10\n",
      "26696/26696 [==============================] - 30s 1ms/sample - loss: 0.0061 - mae: 0.0550 - mse: 0.0061 - val_loss: 0.0095 - val_mae: 0.0701 - val_mse: 0.0095\n",
      "Epoch 10/10\n",
      "26696/26696 [==============================] - 30s 1ms/sample - loss: 0.0060 - mae: 0.0544 - mse: 0.0060 - val_loss: 0.0059 - val_mae: 0.0536 - val_mse: 0.0059\n"
     ]
    },
    {
     "data": {
      "text/plain": [
       "<tensorflow.python.keras.callbacks.History at 0x1783a5150>"
      ]
     },
     "execution_count": 226,
     "metadata": {},
     "output_type": "execute_result"
    }
   ],
   "source": [
    "early_stop = tf.keras.callbacks.EarlyStopping(monitor='val_loss', patience=10)\n",
    "model.fit(x_train, y_train, validation_data=[x_valid, y_valid], epochs=300,\n",
    "         callbacks=[early_stop])"
   ]
  },
  {
   "cell_type": "code",
   "execution_count": 227,
   "metadata": {},
   "outputs": [],
   "source": [
    "y_pred = model.predict(x_valid)"
   ]
  },
  {
   "cell_type": "code",
   "execution_count": 228,
   "metadata": {},
   "outputs": [
    {
     "data": {
      "text/plain": [
       "array([[0.6845869],\n",
       "       [0.6148885],\n",
       "       [0.9616015],\n",
       "       ...,\n",
       "       [0.589713 ],\n",
       "       [0.5069804],\n",
       "       [0.5192814]], dtype=float32)"
      ]
     },
     "execution_count": 228,
     "metadata": {},
     "output_type": "execute_result"
    }
   ],
   "source": [
    "y_pred"
   ]
  },
  {
   "cell_type": "code",
   "execution_count": 229,
   "metadata": {},
   "outputs": [
    {
     "name": "stdout",
     "output_type": "stream",
     "text": [
      "0.7708520116421442 [0.6845869]\n",
      "0.6434526764861874 [0.6148885]\n",
      "0.9590413923210935 [0.9616015]\n",
      "0.8388490907372553 [0.8300586]\n",
      "0.5563025007672873 [0.5520494]\n",
      "0.7403626894942439 [0.6495128]\n",
      "0.4913616938342727 [0.54945576]\n",
      "0.5797835966168101 [0.5392681]\n",
      "0.6434526764861874 [0.6462397]\n",
      "0.6334684555795865 [0.7404833]\n",
      "0.5185139398778874 [0.63941133]\n",
      "0.6434526764861874 [0.64309853]\n",
      "0.7708520116421442 [0.6185029]\n",
      "0.5185139398778874 [0.5186175]\n",
      "0.47712125471966244 [0.48420602]\n",
      "0.4471580313422192 [0.54572666]\n",
      "0.3010299956639812 [0.5296095]\n",
      "0.6232492903979004 [0.6492319]\n",
      "0.5797835966168101 [0.51888853]\n",
      "0.6020599913279624 [0.57268006]\n",
      "0.5185139398778874 [0.51871806]\n",
      "0.4913616938342727 [0.53405917]\n",
      "0.6127838567197355 [0.57565165]\n",
      "0.6532125137753437 [0.64124185]\n",
      "0.6020599913279624 [0.6465766]\n",
      "0.5185139398778874 [0.5499023]\n",
      "0.6989700043360189 [0.71068776]\n",
      "0.7403626894942439 [0.7714247]\n",
      "0.4913616938342727 [0.4917209]\n",
      "0.5910646070264992 [0.6098393]\n",
      "0.5185139398778874 [0.54618657]\n",
      "0.6334684555795865 [0.6163088]\n",
      "0.5440680443502757 [0.59023476]\n",
      "0.5440680443502757 [0.4995262]\n",
      "0.5185139398778874 [0.5209608]\n",
      "0.7075701760979364 [0.6707086]\n",
      "0.505149978319906 [0.462022]\n",
      "0.8808135922807914 [0.8960568]\n",
      "0.6127838567197355 [0.61829054]\n",
      "0.6232492903979004 [0.61999184]\n",
      "0.9777236052888477 [0.9767205]\n",
      "0.6812412373755872 [0.6735009]\n",
      "0.43136376415898736 [0.5605343]\n",
      "0.568201724066995 [0.5807813]\n",
      "0.6127838567197355 [0.66827476]\n",
      "0.6532125137753437 [0.67518204]\n",
      "0.6627578316815741 [0.61665714]\n",
      "0.7923916894982539 [0.8047126]\n",
      "0.505149978319906 [0.5363363]\n",
      "0.5910646070264992 [0.6112845]\n",
      "0.5314789170422551 [0.6250736]\n",
      "0.47712125471966244 [0.5511892]\n",
      "0.6627578316815741 [0.76610833]\n",
      "0.5185139398778874 [0.59623665]\n",
      "0.5440680443502757 [0.5420689]\n",
      "0.7323937598229685 [0.63089734]\n",
      "0.6020599913279624 [0.51641345]\n",
      "0.4913616938342727 [0.5046895]\n",
      "0.5910646070264992 [0.60133576]\n",
      "0.4913616938342727 [0.53425115]\n",
      "0.8129133566428556 [0.807725]\n",
      "0.4913616938342727 [0.607296]\n",
      "0.4471580313422192 [0.57813215]\n",
      "0.4471580313422192 [0.56447005]\n",
      "0.8808135922807914 [0.4866308]\n",
      "0.5440680443502757 [0.5366978]\n",
      "0.9684829485539351 [1.0130725]\n",
      "0.6232492903979004 [0.56345993]\n",
      "0.5563025007672873 [0.75630987]\n",
      "0.4913616938342727 [0.58274925]\n",
      "0.7481880270062004 [0.7940377]\n",
      "0.5797835966168101 [0.51229775]\n",
      "0.505149978319906 [0.49970883]\n",
      "0.9242792860618817 [0.730959]\n",
      "0.5910646070264992 [0.5549038]\n",
      "0.4623979978989561 [0.48868722]\n",
      "0.9912260756924949 [0.977447]\n",
      "0.5797835966168101 [0.6268186]\n",
      "0.505149978319906 [0.5656905]\n",
      "0.7075701760979364 [0.7134793]\n",
      "0.7323937598229685 [0.6546912]\n",
      "0.5185139398778874 [0.5061404]\n",
      "0.5314789170422551 [0.5168765]\n",
      "0.7481880270062004 [0.64439964]\n",
      "0.6334684555795865 [0.639783]\n",
      "0.6127838567197355 [0.5309991]\n",
      "0.6720978579357175 [0.742093]\n",
      "0.414973347970818 [0.508063]\n",
      "0.9493900066449128 [0.9599824]\n",
      "0.505149978319906 [0.5112676]\n",
      "0.5314789170422551 [0.5311986]\n",
      "0.505149978319906 [0.50664526]\n",
      "0.7634279935629372 [0.6771505]\n",
      "0.6020599913279624 [0.69865716]\n",
      "0.4623979978989561 [0.5034533]\n",
      "0.8061799739838872 [0.8710625]\n",
      "0.5185139398778874 [0.5127255]\n",
      "0.6334684555795865 [0.61122847]\n",
      "0.4623979978989561 [0.4804166]\n",
      "0.9867717342662449 [0.9586587]\n",
      "0.9912260756924949 [0.882328]\n",
      "0.5440680443502757 [0.50627255]\n",
      "0.505149978319906 [0.57672215]\n",
      "0.5563025007672873 [0.5667464]\n",
      "0.5314789170422551 [0.60435855]\n",
      "0.7923916894982539 [0.6994462]\n",
      "0.8061799739838872 [0.55492836]\n",
      "0.7923916894982539 [0.69816715]\n",
      "0.6127838567197355 [0.60990655]\n",
      "0.6434526764861874 [0.5496667]\n",
      "0.8976270912904415 [0.9264735]\n",
      "0.9912260756924949 [0.88931996]\n",
      "0.5563025007672873 [0.5745698]\n",
      "0.6127838567197355 [0.5520301]\n",
      "0.9867717342662449 [0.9452173]\n",
      "0.919078092376074 [0.9596097]\n",
      "0.5797835966168101 [0.59028435]\n",
      "0.4471580313422192 [0.5034495]\n",
      "0.5563025007672873 [0.6164563]\n",
      "0.7558748556724915 [0.74827677]\n",
      "0.5563025007672873 [0.61240137]\n",
      "0.5910646070264992 [0.5339908]\n",
      "0.9867717342662449 [1.0001389]\n",
      "0.505149978319906 [0.5200497]\n",
      "0.6627578316815741 [0.6573588]\n",
      "0.6627578316815741 [0.6335156]\n",
      "0.5910646070264992 [0.53783846]\n",
      "0.5910646070264992 [0.516215]\n",
      "0.6020599913279624 [0.53836995]\n",
      "0.5314789170422551 [0.55951667]\n",
      "0.3010299956639812 [0.52206177]\n",
      "0.6127838567197355 [0.5924877]\n",
      "0.9542425094393249 [0.9669466]\n",
      "0.6232492903979004 [0.6123476]\n",
      "0.8864907251724818 [0.95609355]\n",
      "0.5185139398778874 [0.4995755]\n",
      "0.5910646070264992 [0.5633569]\n",
      "0.5910646070264992 [0.59824216]\n",
      "0.5440680443502757 [0.552016]\n",
      "0.4913616938342727 [0.56492406]\n",
      "0.4623979978989561 [0.5978676]\n",
      "0.6127838567197355 [0.62796533]\n",
      "0.6434526764861874 [0.6433696]\n",
      "0.5185139398778874 [0.5484751]\n",
      "0.9912260756924949 [0.9812371]\n",
      "0.6127838567197355 [0.52965003]\n",
      "0.6232492903979004 [0.63648134]\n",
      "0.47712125471966244 [0.5493629]\n",
      "0.7558748556724915 [0.7474925]\n",
      "0.4623979978989561 [0.5175112]\n",
      "0.6127838567197355 [0.58026373]\n",
      "0.568201724066995 [0.51170176]\n",
      "0.6334684555795865 [0.64685684]\n",
      "0.7075701760979364 [0.72808254]\n",
      "0.7781512503836436 [0.69161]\n",
      "0.6334684555795865 [0.6216785]\n",
      "0.6232492903979004 [0.6241629]\n",
      "0.8061799739838872 [0.7656332]\n",
      "0.6334684555795865 [0.7716222]\n",
      "0.4623979978989561 [0.53961974]\n",
      "0.5185139398778874 [0.64700586]\n",
      "0.3010299956639812 [0.5372372]\n",
      "0.9138138523837167 [0.66668946]\n",
      "0.7923916894982539 [0.7535701]\n",
      "0.4623979978989561 [0.59437346]\n",
      "0.6232492903979004 [0.64885086]\n",
      "0.4471580313422192 [0.49040663]\n",
      "0.8129133566428556 [0.7524308]\n",
      "0.785329835010767 [0.73909664]\n",
      "0.6334684555795865 [0.63229525]\n",
      "0.7993405494535817 [0.6652346]\n",
      "0.4913616938342727 [0.5565146]\n",
      "0.5910646070264992 [0.6084606]\n",
      "0.36172783601759284 [0.5011111]\n",
      "0.6720978579357175 [0.74247336]\n",
      "0.6127838567197355 [0.5794566]\n",
      "0.4913616938342727 [0.52875096]\n",
      "0.47712125471966244 [0.49659663]\n",
      "0.5563025007672873 [0.5694679]\n",
      "0.8450980400142568 [0.8640043]\n",
      "0.6989700043360189 [0.7198404]\n",
      "0.5563025007672873 [0.55568993]\n",
      "0.8129133566428556 [0.7814872]\n",
      "0.9542425094393249 [0.98292243]\n",
      "0.3010299956639812 [0.5062216]\n",
      "0.6334684555795865 [0.56467175]\n",
      "0.6627578316815741 [0.6892028]\n",
      "0.505149978319906 [0.6492319]\n",
      "0.4623979978989561 [0.6181864]\n",
      "0.5910646070264992 [0.53358865]\n",
      "0.6901960800285137 [0.7111656]\n",
      "0.7160033436347992 [0.6503657]\n",
      "0.3010299956639812 [0.91423136]\n",
      "0.5910646070264992 [0.57002425]\n",
      "0.6232492903979004 [0.55557233]\n",
      "0.47712125471966244 [0.47491968]\n",
      "0.5563025007672873 [0.52149177]\n",
      "0.505149978319906 [0.5421279]\n",
      "0.47712125471966244 [0.49474937]\n",
      "0.6434526764861874 [0.6245482]\n"
     ]
    }
   ],
   "source": [
    "for y, y_hat in zip(y_valid, y_pred[:200]):\n",
    "    print(y, y_hat)"
   ]
  },
  {
   "cell_type": "code",
   "execution_count": null,
   "metadata": {},
   "outputs": [],
   "source": []
  }
 ],
 "metadata": {
  "kernelspec": {
   "display_name": "Python 3",
   "language": "python",
   "name": "python3"
  },
  "language_info": {
   "codemirror_mode": {
    "name": "ipython",
    "version": 3
   },
   "file_extension": ".py",
   "mimetype": "text/x-python",
   "name": "python",
   "nbconvert_exporter": "python",
   "pygments_lexer": "ipython3",
   "version": "3.7.4"
  },
  "toc": {
   "base_numbering": 1,
   "nav_menu": {},
   "number_sections": true,
   "sideBar": true,
   "skip_h1_title": false,
   "title_cell": "Table of Contents",
   "title_sidebar": "Contents",
   "toc_cell": false,
   "toc_position": {},
   "toc_section_display": true,
   "toc_window_display": false
  }
 },
 "nbformat": 4,
 "nbformat_minor": 4
}
