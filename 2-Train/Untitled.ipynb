{
 "cells": [
  {
   "cell_type": "code",
   "execution_count": 12,
   "metadata": {},
   "outputs": [],
   "source": [
    "import numpy as np\n",
    "import matplotlib.pyplot as plt"
   ]
  },
  {
   "cell_type": "code",
   "execution_count": 13,
   "metadata": {},
   "outputs": [
    {
     "data": {
      "text/plain": [
       "((34120, 2, 3750), (34120,))"
      ]
     },
     "execution_count": 13,
     "metadata": {},
     "output_type": "execute_result"
    }
   ],
   "source": [
    "xset = np.load('../1-prepro/xset.npy')\n",
    "yset = np.load('../1-prepro/yset.npy')\n",
    "\n",
    "xset.shape, yset.shape"
   ]
  },
  {
   "cell_type": "code",
   "execution_count": 257,
   "metadata": {},
   "outputs": [],
   "source": [
    "def get_y(yset):\n",
    "    \n",
    "    outs=[]\n",
    "    for y in yset:\n",
    "        if y >=65: out = 1\n",
    "        #if (y>=65) & (y<85): out= 2\n",
    "        #if (y>=40) & (y<65): out= 1\n",
    "        if y <60: out=0\n",
    "            \n",
    "        outs.append(out)\n",
    "    outs = np.array(outs)\n",
    "    return outs\n"
   ]
  },
  {
   "cell_type": "code",
   "execution_count": 258,
   "metadata": {},
   "outputs": [],
   "source": [
    "data_y = get_y(yset)"
   ]
  },
  {
   "cell_type": "code",
   "execution_count": 259,
   "metadata": {},
   "outputs": [
    {
     "data": {
      "text/plain": [
       "(array([29225.,     0.,     0.,     0.,     0.,     0.,     0.,     0.,\n",
       "            0.,  4895.]),\n",
       " array([0. , 0.1, 0.2, 0.3, 0.4, 0.5, 0.6, 0.7, 0.8, 0.9, 1. ]),\n",
       " <a list of 10 Patch objects>)"
      ]
     },
     "execution_count": 259,
     "metadata": {},
     "output_type": "execute_result"
    },
    {
     "data": {
      "image/png": "[encoded data removed]",
      "text/plain": [
       "<Figure size 432x288 with 1 Axes>"
      ]
     },
     "metadata": {
      "needs_background": "light"
     },
     "output_type": "display_data"
    }
   ],
   "source": [
    "plt.hist(data_y)"
   ]
  },
  {
   "cell_type": "code",
   "execution_count": 263,
   "metadata": {},
   "outputs": [],
   "source": [
    "def get_data(x, y, n=2500):\n",
    "    x0 = x[y==0]\n",
    "    x1 = x[y==1]\n",
    "    #x2 = x[y==2]\n",
    "    #x3 = x[y==3]\n",
    "    \n",
    "    x0 = random.sample(list(x0), n)\n",
    "    #x1 = random.sample(list(x1), n)\n",
    "    x0 = np.array(x0)\n",
    "    #x1 = np.array(x1)\n",
    "    \n",
    "    x_data = np.concatenate((x0, x1), axis=0)\n",
    "    y_data = [0 for i in range(n)]+[1 for i in range(len(x1))]\n",
    "    #+[2 for i in range(len(x2))]+[3 for i in range(len(x3))]\n",
    "    y_data = np.array(y_data)\n",
    "    return x_data, y_data"
   ]
  },
  {
   "cell_type": "code",
   "execution_count": 264,
   "metadata": {},
   "outputs": [],
   "source": [
    "x_data, y_data = get_data(xset, data_y, n=6000)"
   ]
  },
  {
   "cell_type": "code",
   "execution_count": 265,
   "metadata": {},
   "outputs": [
    {
     "data": {
      "text/plain": [
       "((10895, 2, 3750), (10895,))"
      ]
     },
     "execution_count": 265,
     "metadata": {},
     "output_type": "execute_result"
    }
   ],
   "source": [
    "x_data.shape, y_data.shape"
   ]
  },
  {
   "cell_type": "code",
   "execution_count": 180,
   "metadata": {},
   "outputs": [],
   "source": [
    "def plot_data_dist(x):\n",
    "    x = x.reshape(x.shape[0]*x.shape[1])\n",
    "    x[x>100]=100\n",
    "    x[x<-100]=-100\n",
    "    x = x.reshape(len(x), 1)\n",
    "    plt.hist(x, bins=50, alpha=0.5)\n",
    "    return x\n",
    "from sklearn.preprocessing import StandardScaler \n",
    "def plot_scaled_dist(x):\n",
    "    scaler = StandardScaler()\n",
    "    scaler.fit(x)\n",
    "    scaled = scaler.transform(x)\n",
    "    plt.hist(scaled, bins=50, alpha=0.5)\n",
    "\n",
    "    return scaled"
   ]
  },
  {
   "cell_type": "code",
   "execution_count": 266,
   "metadata": {},
   "outputs": [
    {
     "data": {
      "image/png": "[encoded data removed]",
      "text/plain": [
       "<Figure size 432x288 with 1 Axes>"
      ]
     },
     "metadata": {
      "needs_background": "light"
     },
     "output_type": "display_data"
    }
   ],
   "source": [
    "x0 = plot_data_dist(x_data[:,0])\n",
    "x1 = plot_data_dist(x_data[:,1])"
   ]
  },
  {
   "cell_type": "code",
   "execution_count": 267,
   "metadata": {},
   "outputs": [
    {
     "data": {
      "image/png": "[encoded data removed]",
      "text/plain": [
       "<Figure size 432x288 with 1 Axes>"
      ]
     },
     "metadata": {
      "needs_background": "light"
     },
     "output_type": "display_data"
    }
   ],
   "source": [
    "x0 = plot_scaled_dist(x0)\n",
    "x1 = plot_scaled_dist(x1)"
   ]
  },
  {
   "cell_type": "code",
   "execution_count": 268,
   "metadata": {},
   "outputs": [
    {
     "data": {
      "text/plain": [
       "((10895, 3750, 1), (10895, 3750, 1))"
      ]
     },
     "execution_count": 268,
     "metadata": {},
     "output_type": "execute_result"
    }
   ],
   "source": [
    "#x0_ = x0.reshape(34120, 1, 3750)\n",
    "#x1_ = x1.reshape(34120, 1, 3750)\n",
    "x0_ = x0.reshape(len(x_data), 3750, 1)\n",
    "x1_ = x1.reshape(len(x_data), 3750, 1)\n",
    "x0_.shape, x1_.shape"
   ]
  },
  {
   "cell_type": "code",
   "execution_count": 269,
   "metadata": {},
   "outputs": [
    {
     "data": {
      "text/plain": [
       "(10895, 3750, 2)"
      ]
     },
     "execution_count": 269,
     "metadata": {},
     "output_type": "execute_result"
    }
   ],
   "source": [
    "data_x = np.concatenate((x0_, x1_), axis=2)\n",
    "data_x.shape"
   ]
  },
  {
   "cell_type": "code",
   "execution_count": 271,
   "metadata": {},
   "outputs": [
    {
     "data": {
      "text/plain": [
       "((9260, 3750, 2), (1635, 3750, 2), (9260,), (1635,))"
      ]
     },
     "execution_count": 271,
     "metadata": {},
     "output_type": "execute_result"
    }
   ],
   "source": [
    "from sklearn.model_selection import train_test_split\n",
    "\n",
    "x_train, x_test, y_train, y_test = train_test_split(data_x, y_data, test_size=0.15, random_state=42)\n",
    "x_train.shape, x_test.shape, y_train.shape, y_test.shape"
   ]
  },
  {
   "cell_type": "code",
   "execution_count": 272,
   "metadata": {},
   "outputs": [],
   "source": [
    "from tensorflow.keras import layers\n",
    "def build_wavenet():\n",
    "    model = Sequential()\n",
    "    model.add(layers.InputLayer(input_shape=[3750, 2]))\n",
    "    for rate in (1,2,4,8):\n",
    "        model.add(layers.Conv1D(filters=20, kernel_size=2, \n",
    "                                padding='causal', activation='relu', dilation_rate=rate))\n",
    "    \n",
    "    model.add(layers.AveragePooling1D(50, padding='same'))\n",
    "    model.add(layers.Conv1D(20, 100, padding='same', activation='relu'))\n",
    "    \n",
    "    model.add(layers.Conv1D(1, 100, padding='same', activation='relu'))\n",
    "    model.add(layers.AveragePooling1D(10, padding='same'))\n",
    "    \n",
    "    \n",
    "    model.add(layers.Conv1D(4, 10, padding='same'))\n",
    "    model.add(layers.AveragePooling1D(10, padding='same'))\n",
    "    model.add(layers.Reshape(( 4, )))\n",
    "    model.add(layers.Activation('softmax'))\n",
    "    \n",
    "    model.compile('adam', 'sparse_categorical_crossentropy', metrics=['accuracy'])    \n",
    "    return model"
   ]
  },
  {
   "cell_type": "code",
   "execution_count": 273,
   "metadata": {},
   "outputs": [
    {
     "name": "stdout",
     "output_type": "stream",
     "text": [
      "Model: \"sequential_46\"\n",
      "_________________________________________________________________\n",
      "Layer (type)                 Output Shape              Param #   \n",
      "=================================================================\n",
      "conv1d_274 (Conv1D)          (None, 3750, 20)          100       \n",
      "_________________________________________________________________\n",
      "conv1d_275 (Conv1D)          (None, 3750, 20)          820       \n",
      "_________________________________________________________________\n",
      "conv1d_276 (Conv1D)          (None, 3750, 20)          820       \n",
      "_________________________________________________________________\n",
      "conv1d_277 (Conv1D)          (None, 3750, 20)          820       \n",
      "_________________________________________________________________\n",
      "average_pooling1d_80 (Averag (None, 75, 20)            0         \n",
      "_________________________________________________________________\n",
      "conv1d_278 (Conv1D)          (None, 75, 20)            40020     \n",
      "_________________________________________________________________\n",
      "conv1d_279 (Conv1D)          (None, 75, 1)             2001      \n",
      "_________________________________________________________________\n",
      "average_pooling1d_81 (Averag (None, 8, 1)              0         \n",
      "_________________________________________________________________\n",
      "conv1d_280 (Conv1D)          (None, 8, 4)              44        \n",
      "_________________________________________________________________\n",
      "average_pooling1d_82 (Averag (None, 1, 4)              0         \n",
      "_________________________________________________________________\n",
      "reshape_39 (Reshape)         (None, 4)                 0         \n",
      "_________________________________________________________________\n",
      "activation_66 (Activation)   (None, 4)                 0         \n",
      "=================================================================\n",
      "Total params: 44,625\n",
      "Trainable params: 44,625\n",
      "Non-trainable params: 0\n",
      "_________________________________________________________________\n"
     ]
    }
   ],
   "source": [
    "model = build_wavenet()\n",
    "model.summary()"
   ]
  },
  {
   "cell_type": "code",
   "execution_count": 279,
   "metadata": {},
   "outputs": [
    {
     "name": "stdout",
     "output_type": "stream",
     "text": [
      "Train on 7408 samples, validate on 1852 samples\n",
      "Epoch 1/5\n",
      "7408/7408 [==============================] - 46s 6ms/sample - loss: 0.2425 - accuracy: 0.8966 - val_loss: 0.2648 - val_accuracy: 0.8839\n",
      "Epoch 2/5\n",
      "7408/7408 [==============================] - 46s 6ms/sample - loss: 0.2441 - accuracy: 0.8979 - val_loss: 0.2474 - val_accuracy: 0.8931\n",
      "Epoch 3/5\n",
      "7408/7408 [==============================] - 46s 6ms/sample - loss: 0.2611 - accuracy: 0.8870 - val_loss: 0.2612 - val_accuracy: 0.8866\n",
      "Epoch 4/5\n",
      "7408/7408 [==============================] - 46s 6ms/sample - loss: 0.2383 - accuracy: 0.9012 - val_loss: 0.2351 - val_accuracy: 0.9028\n",
      "Epoch 5/5\n",
      "7408/7408 [==============================] - 46s 6ms/sample - loss: 0.2344 - accuracy: 0.9017 - val_loss: 0.2348 - val_accuracy: 0.9001\n"
     ]
    }
   ],
   "source": [
    "class_weights = np.array([0.68741815, 1])\n",
    "                         #0.8576366 , 4.63653047, 4.63653047])\n",
    "history = model.fit(x_train, y_train , \n",
    "                    batch_size=64, epochs=5, \n",
    "                    validation_split=0.2,\n",
    "                    #class_weight=class_weights\n",
    "                   \n",
    ")"
   ]
  },
  {
   "cell_type": "code",
   "execution_count": 275,
   "metadata": {},
   "outputs": [
    {
     "name": "stdout",
     "output_type": "stream",
     "text": [
      "1635/1635 [==============================] - 3s 2ms/sample - loss: 0.2785 - accuracy: 0.8789\n"
     ]
    },
    {
     "data": {
      "text/plain": [
       "[0.2784637144034791, 0.8788991]"
      ]
     },
     "execution_count": 275,
     "metadata": {},
     "output_type": "execute_result"
    }
   ],
   "source": [
    "model.evaluate(x_test, y_test)"
   ]
  },
  {
   "cell_type": "code",
   "execution_count": 276,
   "metadata": {},
   "outputs": [
    {
     "data": {
      "text/plain": [
       "array([0, 0, 0, ..., 0, 0, 1])"
      ]
     },
     "execution_count": 276,
     "metadata": {},
     "output_type": "execute_result"
    }
   ],
   "source": [
    "y_pred = model.predict_classes(x_test)\n",
    "y_pred"
   ]
  },
  {
   "cell_type": "code",
   "execution_count": 277,
   "metadata": {},
   "outputs": [
    {
     "data": {
      "text/plain": [
       "Text(33.0, 0.5, 'True')"
      ]
     },
     "execution_count": 277,
     "metadata": {},
     "output_type": "execute_result"
    },
    {
     "data": {
      "image/png": "[encoded data removed]",
      "text/plain": [
       "<Figure size 432x288 with 2 Axes>"
      ]
     },
     "metadata": {
      "needs_background": "light"
     },
     "output_type": "display_data"
    }
   ],
   "source": [
    "import seaborn as sns\n",
    "import matplotlib.pyplot as plt\n",
    "from sklearn.metrics import confusion_matrix\n",
    "cm = confusion_matrix(y_test, y_pred)\n",
    "cm = cm.astype('float')/cm.sum(axis=1)[:, np.newaxis]\n",
    "ax = plt.subplot()\n",
    "sns.heatmap(cm, annot=True, ax = ax)\n",
    "ax.set_xlabel(\"Pred\")\n",
    "ax.set_ylabel(\"True\")"
   ]
  },
  {
   "cell_type": "code",
   "execution_count": 278,
   "metadata": {},
   "outputs": [
    {
     "data": {
      "text/plain": [
       "array([[0.96103896, 0.03896104],\n",
       "       [0.2278481 , 0.7721519 ]])"
      ]
     },
     "execution_count": 278,
     "metadata": {},
     "output_type": "execute_result"
    }
   ],
   "source": [
    "cm"
   ]
  },
  {
   "cell_type": "code",
   "execution_count": 16,
   "metadata": {},
   "outputs": [
    {
     "name": "stderr",
     "output_type": "stream",
     "text": [
      "/Users/nibey/miniconda3/lib/python3.7/site-packages/sklearn/utils/validation.py:70: FutureWarning: Pass classes=[0 1 2], y=[1 0 1 ... 1 0 0] as keyword args. From version 0.25 passing these as positional arguments will result in an error\n",
      "  FutureWarning)\n"
     ]
    }
   ],
   "source": [
    "from sklearn.utils import class_weight\n",
    "class_weights = class_weight.compute_class_weight('balanced',\n",
    "                                                 np.unique(y_train),\n",
    "                                                 y_train)"
   ]
  },
  {
   "cell_type": "code",
   "execution_count": 26,
   "metadata": {},
   "outputs": [],
   "source": []
  },
  {
   "cell_type": "code",
   "execution_count": null,
   "metadata": {},
   "outputs": [],
   "source": []
  }
 ],
 "metadata": {
  "kernelspec": {
   "display_name": "Python 3",
   "language": "python",
   "name": "python3"
  },
  "language_info": {
   "codemirror_mode": {
    "name": "ipython",
    "version": 3
   },
   "file_extension": ".py",
   "mimetype": "text/x-python",
   "name": "python",
   "nbconvert_exporter": "python",
   "pygments_lexer": "ipython3",
   "version": "3.7.4"
  }
 },
 "nbformat": 4,
 "nbformat_minor": 4
}
